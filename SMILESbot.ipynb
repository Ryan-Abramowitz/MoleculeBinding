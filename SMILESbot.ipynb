{
 "cells": [
  {
   "cell_type": "markdown",
   "metadata": {},
   "source": [
    "Get the Isomeric Smiles from a list of CAS-ID's"
   ]
  },
  {
   "cell_type": "code",
   "execution_count": 1,
   "metadata": {},
   "outputs": [
    {
     "name": "stdout",
     "output_type": "stream",
     "text": [
      "hi\n"
     ]
    }
   ],
   "source": [
    "\n",
    "import numpy as np\n",
    "import pandas as pd\n",
    "import subprocess\n",
    "\n",
    "df = pd.read_excel('SixC-Ring SMILES final chemical library.xlsx')\n",
    "print(df.shape)\n",
    "print(df.head(100))\n",
    "\n",
    "\n",
    "\n",
    "\n",
    "\n",
    "print('hi')"
   ]
  }
 ],
 "metadata": {
  "interpreter": {
   "hash": "dd9eb09a7223bcbac211d9f875d54a851c9f988c4508be64848ddd3c897517f4"
  },
  "kernelspec": {
   "display_name": "Python 3.9.9 ('chemprop')",
   "language": "python",
   "name": "python3"
  },
  "language_info": {
   "codemirror_mode": {
    "name": "ipython",
    "version": 3
   },
   "file_extension": ".py",
   "mimetype": "text/x-python",
   "name": "python",
   "nbconvert_exporter": "python",
   "pygments_lexer": "ipython3",
   "version": "3.9.9"
  },
  "orig_nbformat": 4
 },
 "nbformat": 4,
 "nbformat_minor": 2
}
