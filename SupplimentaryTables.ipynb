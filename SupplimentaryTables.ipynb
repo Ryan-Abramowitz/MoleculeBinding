{
 "cells": [
  {
   "cell_type": "code",
   "execution_count": 4,
   "id": "749380e1",
   "metadata": {},
   "outputs": [],
   "source": [
    "import pandas as pd\n",
    "import numpy as np\n",
    "import matplotlib.pyplot as plt\n",
    "from sklearn.linear_model import SGDClassifier\n",
    "from rdkit import Chem\n",
    "from rdkit.Chem import AllChem\n",
    "from rdkit.Chem import Draw\n",
    "from rdkit.Chem import Draw\n",
    "import sys"
   ]
  },
  {
   "cell_type": "code",
   "execution_count": 6,
   "id": "c07864fc",
   "metadata": {},
   "outputs": [
    {
     "name": "stdout",
     "output_type": "stream",
     "text": [
      "Features: 748\n",
      "\n",
      "FULL Dataset: (169, 3)\n",
      "Fingerprint: (169, 2048) Sparcity: 0.01201923076923077\n"
     ]
    }
   ],
   "source": [
    "df = pd.read_excel('SupplimentaryTables.xlsx', sheet_name='Sheet1')\n",
    "\n",
    "\n",
    "bits = int(2048)\n",
    "\n",
    "def clean_molecule(m): # https://github.com/rdkit/rdkit/issues/46 (because I'm using this on broken substructures)\n",
    "    Chem.SanitizeMol(m,sanitizeOps=Chem.SanitizeFlags.SANITIZE_ALL^Chem.SanitizeFlags.SANITIZE_KEKULIZE)\n",
    "\n",
    "smiles = df['SMILES']\n",
    "names = df['Name']\n",
    "molecs = [Chem.MolFromSmiles(i, sanitize=False) for i in smiles]\n",
    "[clean_molecule(s) for s in molecs]\n",
    "[i.SetProp(\"_Name\",j) for i,j in zip(molecs,names)]\n",
    "molecs = [i for i in molecs if not i == None]\n",
    "fingerprint = np.array([AllChem.GetMorganFingerprintAsBitVect(i,2,useChirality=True,nBits=bits) for i in molecs])\n",
    "\n",
    "\n",
    "label = df['Label']\n",
    "tot = len(label)\n",
    "pos = sum(label)\n",
    "neg = tot - sum(label)\n",
    "\n",
    "features = np.all(fingerprint == 0,axis=0) + np.all(fingerprint == 1,axis=0) == 0\n",
    "print('Features:',features.sum())\n",
    "\n",
    "print()\n",
    "print(f\"FULL Dataset: {df.shape}\")\n",
    "print(\"Fingerprint:\",fingerprint.shape,\"Sparcity:\",np.mean(fingerprint))\n"
   ]
  },
  {
   "cell_type": "code",
   "execution_count": 12,
   "id": "12a75fcc",
   "metadata": {},
   "outputs": [
    {
     "name": "stdout",
     "output_type": "stream",
     "text": [
      "........................................................................................................................................................................................................................................................................................................................................................................................................................................................................................................................................................................................................................................................................................................................................................................................................................................................................................................................................................................................................................................"
     ]
    },
    {
     "data": {
      "image/png": "[encoded data removed]",
      "text/plain": [
       "<Figure size 432x288 with 1 Axes>"
      ]
     },
     "metadata": {
      "needs_background": "light"
     },
     "output_type": "display_data"
    },
    {
     "name": "stdout",
     "output_type": "stream",
     "text": [
      "Hits: 10\n",
      "........................................................................................................................................................................................................................................................................................................................................................................................................................................................................................................................................................................................................................................................................................................................................................................................................................................................................................................................................................................................................................................"
     ]
    },
    {
     "data": {
      "image/png": "[encoded data removed]",
      "text/plain": [
       "<Figure size 432x288 with 1 Axes>"
      ]
     },
     "metadata": {
      "needs_background": "light"
     },
     "output_type": "display_data"
    },
    {
     "name": "stdout",
     "output_type": "stream",
     "text": [
      "Hits: 2\n"
     ]
    }
   ],
   "source": [
    "for weight in (True,False,):\n",
    "    nums = []\n",
    "\n",
    "    df = pd.read_excel('SupplimentaryTables.xlsx', sheet_name='Sheet2')\n",
    "    nonsmiles = []\n",
    "    for i,j in enumerate(df['SMILES']):\n",
    "        try:\n",
    "            x = Chem.MolFromSmiles(j, sanitize=False)\n",
    "            clean_molecule(x)\n",
    "            AllChem.GetMorganFingerprintAsBitVect(x,2,useChirality=True,nBits=bits)\n",
    "        except:\n",
    "            nonsmiles.append(i)\n",
    "    df.drop(nonsmiles, axis=0, inplace=True)\n",
    "\n",
    "    inp = list(df['SMILES'])\n",
    "    for _ in range(1000):\n",
    "        if weight:\n",
    "            model = SGDClassifier(loss='modified_huber', penalty='elasticnet', max_iter=1000, class_weight={0: 0.005, 1: 1}, warm_start=True, early_stopping=False, n_jobs=-1)\n",
    "        else:\n",
    "            model = SGDClassifier(loss='modified_huber', penalty='elasticnet', max_iter=1000, warm_start=True, early_stopping=False, n_jobs=-1)\n",
    "        model.fit(fingerprint[:,features],label)\n",
    "        def model_on_list(smiles):\n",
    "            molecs = [Chem.MolFromSmiles(i, sanitize=False) for i in smiles]\n",
    "            [clean_molecule(s) for s in molecs]\n",
    "            fingerprint = np.array([AllChem.GetMorganFingerprintAsBitVect(i,2,useChirality=True,nBits=bits) for i in molecs])[:,features]\n",
    "            return model.predict_proba(fingerprint)[:,1]\n",
    "        predictions = model_on_list(inp)\n",
    "        nums += [predictions]\n",
    "\n",
    "        print('.',end='')\n",
    "\n",
    "\n",
    "    nums = np.array(nums)\n",
    "    predictions = [nums.mean(axis=0),nums.std(axis=0)/np.sqrt(len(nums)),np.array(df['Name']),np.array(df['SMILES'])]\n",
    "\n",
    "    plt.plot(sorted(predictions[0],reverse=True))\n",
    "    plt.title('Test Predictions')\n",
    "    plt.ylabel('Score')\n",
    "    plt.xlabel('Molecule')\n",
    "    plt.show()\n",
    "\n",
    "    posatives = sorted(list(zip(*[i[predictions[0]>0.5] for i in predictions])),reverse=True)\n",
    "    nhits = len(posatives)\n",
    "    print('Hits:',nhits)\n",
    "    x = pd.DataFrame(posatives)\n",
    "    x.columns=['Score','SE','Name','SMILES']\n",
    "    x.to_excel(f'SupplimentaryTablesPredict{\"Weighted\" if weight else \"Unweighted\"}.xlsx',index=False)"
   ]
  }
 ],
 "metadata": {
  "interpreter": {
   "hash": "49037ad4363916273293660acbf977e8f98cb1ada4be082f404b52d076cf0661"
  },
  "kernelspec": {
   "display_name": "Python 3.10.4 ('rdkit')",
   "language": "python",
   "name": "python3"
  },
  "language_info": {
   "codemirror_mode": {
    "name": "ipython",
    "version": 3
   },
   "file_extension": ".py",
   "mimetype": "text/x-python",
   "name": "python",
   "nbconvert_exporter": "python",
   "pygments_lexer": "ipython3",
   "version": "3.10.4"
  }
 },
 "nbformat": 4,
 "nbformat_minor": 5
}
